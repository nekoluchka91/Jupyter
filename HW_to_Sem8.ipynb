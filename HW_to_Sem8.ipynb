{
 "cells": [
  {
   "cell_type": "markdown",
   "id": "d36aafe0",
   "metadata": {},
   "source": [
    "# Задание.\n",
    "\n",
    "На сайте запущен А/В тест с целью увеличить доход. \n",
    "В приложенном excel файле вы найдете сырые данные по результатам эксперимента – user_id, тип выборки variant_name и доход принесенный пользователем revenue.\n",
    "\n",
    "Проанализируйте результаты эксперимента и напишите свои рекомендации менеджеру."
   ]
  },
  {
   "cell_type": "code",
   "execution_count": 2,
   "id": "a1627aa9",
   "metadata": {},
   "outputs": [],
   "source": [
    "from typing import Union # строгая типизация данных\n",
    "from tqdm import tqdm # прогрес бар для циклов\n",
    "\n",
    "import pandas as pd\n",
    "import numpy as np\n",
    "\n",
    "from scipy import stats # для работы со стат данными и проверки стат гипотез\n",
    "from statsmodels.stats.meta_analysis import effectsize_smd # для работы со стат данными и проверки стат гипотез\n",
    "from statsmodels.stats import proportion # для работы со стат данными и проверки стат гипотез\n",
    "from statsmodels.stats.power import tt_ind_solve_power # для работы со стат данными и проверки стат гипотез\n",
    "from statsmodels.stats.power import zt_ind_solve_power # для работы со стат данными и проверки стат гипотез"
   ]
  },
  {
   "cell_type": "code",
   "execution_count": 3,
   "id": "62d11b5b",
   "metadata": {},
   "outputs": [
    {
     "name": "stderr",
     "output_type": "stream",
     "text": [
      "C:\\Users\\User\\anaconda3\\lib\\site-packages\\openpyxl\\worksheet\\_read_only.py:79: UserWarning: Unknown extension is not supported and will be removed\n",
      "  for idx, row in parser.parse():\n"
     ]
    }
   ],
   "source": [
    "df = pd.read_excel('D:\\\\Nastya\\\\GeekBrains\\\\GeekBrains\\\\АВ тестирование\\\\Семинар 8\\\\gb_sem_8_hm.xlsx')"
   ]
  },
  {
   "cell_type": "code",
   "execution_count": 14,
   "id": "ac33e620",
   "metadata": {},
   "outputs": [
    {
     "data": {
      "text/html": [
       "<div>\n",
       "<style scoped>\n",
       "    .dataframe tbody tr th:only-of-type {\n",
       "        vertical-align: middle;\n",
       "    }\n",
       "\n",
       "    .dataframe tbody tr th {\n",
       "        vertical-align: top;\n",
       "    }\n",
       "\n",
       "    .dataframe thead th {\n",
       "        text-align: right;\n",
       "    }\n",
       "</style>\n",
       "<table border=\"1\" class=\"dataframe\">\n",
       "  <thead>\n",
       "    <tr style=\"text-align: right;\">\n",
       "      <th></th>\n",
       "      <th>USER_ID</th>\n",
       "      <th>VARIANT_NAME</th>\n",
       "      <th>REVENUE</th>\n",
       "    </tr>\n",
       "  </thead>\n",
       "  <tbody>\n",
       "    <tr>\n",
       "      <th>0</th>\n",
       "      <td>2</td>\n",
       "      <td>control</td>\n",
       "      <td>0.0</td>\n",
       "    </tr>\n",
       "    <tr>\n",
       "      <th>1</th>\n",
       "      <td>3</td>\n",
       "      <td>control</td>\n",
       "      <td>0.0</td>\n",
       "    </tr>\n",
       "    <tr>\n",
       "      <th>2</th>\n",
       "      <td>3</td>\n",
       "      <td>variant</td>\n",
       "      <td>0.0</td>\n",
       "    </tr>\n",
       "    <tr>\n",
       "      <th>3</th>\n",
       "      <td>4</td>\n",
       "      <td>variant</td>\n",
       "      <td>0.0</td>\n",
       "    </tr>\n",
       "    <tr>\n",
       "      <th>4</th>\n",
       "      <td>5</td>\n",
       "      <td>variant</td>\n",
       "      <td>0.0</td>\n",
       "    </tr>\n",
       "  </tbody>\n",
       "</table>\n",
       "</div>"
      ],
      "text/plain": [
       "   USER_ID VARIANT_NAME  REVENUE\n",
       "0        2      control      0.0\n",
       "1        3      control      0.0\n",
       "2        3      variant      0.0\n",
       "3        4      variant      0.0\n",
       "4        5      variant      0.0"
      ]
     },
     "execution_count": 14,
     "metadata": {},
     "output_type": "execute_result"
    }
   ],
   "source": [
    "df.head()\n",
    "# выводим первые 5 строк\n",
    "# variant - тестовая группа"
   ]
  },
  {
   "cell_type": "code",
   "execution_count": 5,
   "id": "f4afd1cf",
   "metadata": {},
   "outputs": [
    {
     "data": {
      "text/plain": [
       "(10000, 3)"
      ]
     },
     "execution_count": 5,
     "metadata": {},
     "output_type": "execute_result"
    }
   ],
   "source": [
    "df.shape\n",
    "# смотрим количество строк и столбцов в целом"
   ]
  },
  {
   "cell_type": "code",
   "execution_count": 6,
   "id": "336bcc9e",
   "metadata": {},
   "outputs": [
    {
     "data": {
      "text/plain": [
       "6324"
      ]
     },
     "execution_count": 6,
     "metadata": {},
     "output_type": "execute_result"
    }
   ],
   "source": [
    "df.USER_ID.unique()\n",
    "# смотрим количество уникальных (неповторяющихся) значений по столбцу USER_ID"
   ]
  },
  {
   "cell_type": "code",
   "execution_count": 7,
   "id": "b4fd7ba4",
   "metadata": {},
   "outputs": [],
   "source": [
    "df = df.groupby(['USER_ID', 'VARIANT_NAME'], as_index=False).agg({'REVENUE': 'sum'})\n",
    "# группируем по юзер айди и вэриант нэйм и хотим вытащить по столбцу ревенью сумму."
   ]
  },
  {
   "cell_type": "code",
   "execution_count": 8,
   "id": "97208e3e",
   "metadata": {},
   "outputs": [
    {
     "data": {
      "text/plain": [
       "(7865, 3)"
      ]
     },
     "execution_count": 8,
     "metadata": {},
     "output_type": "execute_result"
    }
   ],
   "source": [
    "df.shape\n",
    "# смотрим количество строк и столбцов сформированной выше таблицы"
   ]
  },
  {
   "cell_type": "code",
   "execution_count": 9,
   "id": "7aaeb691",
   "metadata": {},
   "outputs": [
    {
     "data": {
      "text/plain": [
       "1    4783\n",
       "2    1541\n",
       "Name: VARIANT_NAME, dtype: int64"
      ]
     },
     "execution_count": 9,
     "metadata": {},
     "output_type": "execute_result"
    }
   ],
   "source": [
    "df.groupby('USER_ID', as_index=False).agg({'VARIANT_NAME': 'count'})['VARIANT_NAME'].value_counts()\n",
    "# группируем по юзер айди и хотим вытащить по столбцу вариант нэйм количество по группам тестовой и контрольной (в сумме 6324)"
   ]
  },
  {
   "cell_type": "code",
   "execution_count": 10,
   "id": "4f10277a",
   "metadata": {},
   "outputs": [],
   "source": [
    "unique_ids = \\\n",
    "(df\n",
    " .groupby('USER_ID', as_index=False)\n",
    " .agg({'VARIANT_NAME': 'count'})\n",
    " #.['VARIANT_NAME'].value_counts()\n",
    " .query('VARIANT_NAME == 1')\n",
    " .USER_ID\n",
    " .values\n",
    " )"
   ]
  },
  {
   "cell_type": "code",
   "execution_count": 11,
   "id": "8b520ab5",
   "metadata": {},
   "outputs": [],
   "source": [
    "df_new = df[df.USER_ID.isin(unique_ids)].copy(deep=True)\n",
    "# создаем новый датафрейм в копию БЕЗ дубликатов"
   ]
  },
  {
   "cell_type": "code",
   "execution_count": 12,
   "id": "52b5e8e3",
   "metadata": {},
   "outputs": [
    {
     "data": {
      "text/html": [
       "<div>\n",
       "<style scoped>\n",
       "    .dataframe tbody tr th:only-of-type {\n",
       "        vertical-align: middle;\n",
       "    }\n",
       "\n",
       "    .dataframe tbody tr th {\n",
       "        vertical-align: top;\n",
       "    }\n",
       "\n",
       "    .dataframe thead th {\n",
       "        text-align: right;\n",
       "    }\n",
       "</style>\n",
       "<table border=\"1\" class=\"dataframe\">\n",
       "  <thead>\n",
       "    <tr style=\"text-align: right;\">\n",
       "      <th></th>\n",
       "      <th>USER_ID</th>\n",
       "      <th>REVENUE</th>\n",
       "    </tr>\n",
       "  </thead>\n",
       "  <tbody>\n",
       "    <tr>\n",
       "      <th>count</th>\n",
       "      <td>4783.000000</td>\n",
       "      <td>4783.000000</td>\n",
       "    </tr>\n",
       "    <tr>\n",
       "      <th>mean</th>\n",
       "      <td>4994.395777</td>\n",
       "      <td>0.135873</td>\n",
       "    </tr>\n",
       "    <tr>\n",
       "      <th>std</th>\n",
       "      <td>2898.618472</td>\n",
       "      <td>3.011392</td>\n",
       "    </tr>\n",
       "    <tr>\n",
       "      <th>min</th>\n",
       "      <td>2.000000</td>\n",
       "      <td>0.000000</td>\n",
       "    </tr>\n",
       "    <tr>\n",
       "      <th>25%</th>\n",
       "      <td>2476.000000</td>\n",
       "      <td>0.000000</td>\n",
       "    </tr>\n",
       "    <tr>\n",
       "      <th>50%</th>\n",
       "      <td>4975.000000</td>\n",
       "      <td>0.000000</td>\n",
       "    </tr>\n",
       "    <tr>\n",
       "      <th>75%</th>\n",
       "      <td>7515.000000</td>\n",
       "      <td>0.000000</td>\n",
       "    </tr>\n",
       "    <tr>\n",
       "      <th>max</th>\n",
       "      <td>9998.000000</td>\n",
       "      <td>196.010000</td>\n",
       "    </tr>\n",
       "  </tbody>\n",
       "</table>\n",
       "</div>"
      ],
      "text/plain": [
       "           USER_ID      REVENUE\n",
       "count  4783.000000  4783.000000\n",
       "mean   4994.395777     0.135873\n",
       "std    2898.618472     3.011392\n",
       "min       2.000000     0.000000\n",
       "25%    2476.000000     0.000000\n",
       "50%    4975.000000     0.000000\n",
       "75%    7515.000000     0.000000\n",
       "max    9998.000000   196.010000"
      ]
     },
     "execution_count": 12,
     "metadata": {},
     "output_type": "execute_result"
    }
   ],
   "source": [
    "df_new.describe()\n",
    "# смотрим на описание признаков и на их содержание (статистика) нового датафрейма"
   ]
  },
  {
   "cell_type": "code",
   "execution_count": 16,
   "id": "3ed761d9",
   "metadata": {},
   "outputs": [],
   "source": [
    "gr_A = df[df['VARIANT_NAME'] == 'control'].copy(deep=True) # разделяем по группам А и В, затем вытаскивапем их, потом их копируем в новый датафрейм (дип тру - если у нас будут изменения в оришгинальном датафрейме, то эти изменения никак не повлияют на наши созданные новые массивы)\n",
    "gr_B = df[df['VARIANT_NAME'] == 'variant'].copy(deep=True)\n",
    "# treatment - воздействие, это наша тестовая группа"
   ]
  },
  {
   "cell_type": "code",
   "execution_count": 17,
   "id": "0d4091ea",
   "metadata": {},
   "outputs": [
    {
     "data": {
      "text/html": [
       "<div>\n",
       "<style scoped>\n",
       "    .dataframe tbody tr th:only-of-type {\n",
       "        vertical-align: middle;\n",
       "    }\n",
       "\n",
       "    .dataframe tbody tr th {\n",
       "        vertical-align: top;\n",
       "    }\n",
       "\n",
       "    .dataframe thead th {\n",
       "        text-align: right;\n",
       "    }\n",
       "</style>\n",
       "<table border=\"1\" class=\"dataframe\">\n",
       "  <thead>\n",
       "    <tr style=\"text-align: right;\">\n",
       "      <th></th>\n",
       "      <th>USER_ID</th>\n",
       "      <th>REVENUE</th>\n",
       "    </tr>\n",
       "  </thead>\n",
       "  <tbody>\n",
       "    <tr>\n",
       "      <th>count</th>\n",
       "      <td>3931.000000</td>\n",
       "      <td>3931.000000</td>\n",
       "    </tr>\n",
       "    <tr>\n",
       "      <th>mean</th>\n",
       "      <td>4993.953447</td>\n",
       "      <td>0.163572</td>\n",
       "    </tr>\n",
       "    <tr>\n",
       "      <th>std</th>\n",
       "      <td>2894.614378</td>\n",
       "      <td>3.385721</td>\n",
       "    </tr>\n",
       "    <tr>\n",
       "      <th>min</th>\n",
       "      <td>2.000000</td>\n",
       "      <td>0.000000</td>\n",
       "    </tr>\n",
       "    <tr>\n",
       "      <th>25%</th>\n",
       "      <td>2488.000000</td>\n",
       "      <td>0.000000</td>\n",
       "    </tr>\n",
       "    <tr>\n",
       "      <th>50%</th>\n",
       "      <td>4972.000000</td>\n",
       "      <td>0.000000</td>\n",
       "    </tr>\n",
       "    <tr>\n",
       "      <th>75%</th>\n",
       "      <td>7574.000000</td>\n",
       "      <td>0.000000</td>\n",
       "    </tr>\n",
       "    <tr>\n",
       "      <th>max</th>\n",
       "      <td>10000.000000</td>\n",
       "      <td>196.010000</td>\n",
       "    </tr>\n",
       "  </tbody>\n",
       "</table>\n",
       "</div>"
      ],
      "text/plain": [
       "            USER_ID      REVENUE\n",
       "count   3931.000000  3931.000000\n",
       "mean    4993.953447     0.163572\n",
       "std     2894.614378     3.385721\n",
       "min        2.000000     0.000000\n",
       "25%     2488.000000     0.000000\n",
       "50%     4972.000000     0.000000\n",
       "75%     7574.000000     0.000000\n",
       "max    10000.000000   196.010000"
      ]
     },
     "execution_count": 17,
     "metadata": {},
     "output_type": "execute_result"
    }
   ],
   "source": [
    "gr_A.describe()\n",
    "\n",
    "# смотрим по отдельности описательные статистики - контрольная группа (без изменений)"
   ]
  },
  {
   "cell_type": "code",
   "execution_count": 18,
   "id": "afb9021b",
   "metadata": {},
   "outputs": [
    {
     "data": {
      "text/html": [
       "<div>\n",
       "<style scoped>\n",
       "    .dataframe tbody tr th:only-of-type {\n",
       "        vertical-align: middle;\n",
       "    }\n",
       "\n",
       "    .dataframe tbody tr th {\n",
       "        vertical-align: top;\n",
       "    }\n",
       "\n",
       "    .dataframe thead th {\n",
       "        text-align: right;\n",
       "    }\n",
       "</style>\n",
       "<table border=\"1\" class=\"dataframe\">\n",
       "  <thead>\n",
       "    <tr style=\"text-align: right;\">\n",
       "      <th></th>\n",
       "      <th>USER_ID</th>\n",
       "      <th>REVENUE</th>\n",
       "    </tr>\n",
       "  </thead>\n",
       "  <tbody>\n",
       "    <tr>\n",
       "      <th>count</th>\n",
       "      <td>3934.000000</td>\n",
       "      <td>3934.000000</td>\n",
       "    </tr>\n",
       "    <tr>\n",
       "      <th>mean</th>\n",
       "      <td>4961.772242</td>\n",
       "      <td>0.089342</td>\n",
       "    </tr>\n",
       "    <tr>\n",
       "      <th>std</th>\n",
       "      <td>2887.055258</td>\n",
       "      <td>1.484566</td>\n",
       "    </tr>\n",
       "    <tr>\n",
       "      <th>min</th>\n",
       "      <td>3.000000</td>\n",
       "      <td>0.000000</td>\n",
       "    </tr>\n",
       "    <tr>\n",
       "      <th>25%</th>\n",
       "      <td>2439.750000</td>\n",
       "      <td>0.000000</td>\n",
       "    </tr>\n",
       "    <tr>\n",
       "      <th>50%</th>\n",
       "      <td>4956.500000</td>\n",
       "      <td>0.000000</td>\n",
       "    </tr>\n",
       "    <tr>\n",
       "      <th>75%</th>\n",
       "      <td>7415.750000</td>\n",
       "      <td>0.000000</td>\n",
       "    </tr>\n",
       "    <tr>\n",
       "      <th>max</th>\n",
       "      <td>10000.000000</td>\n",
       "      <td>58.630000</td>\n",
       "    </tr>\n",
       "  </tbody>\n",
       "</table>\n",
       "</div>"
      ],
      "text/plain": [
       "            USER_ID      REVENUE\n",
       "count   3934.000000  3934.000000\n",
       "mean    4961.772242     0.089342\n",
       "std     2887.055258     1.484566\n",
       "min        3.000000     0.000000\n",
       "25%     2439.750000     0.000000\n",
       "50%     4956.500000     0.000000\n",
       "75%     7415.750000     0.000000\n",
       "max    10000.000000    58.630000"
      ]
     },
     "execution_count": 18,
     "metadata": {},
     "output_type": "execute_result"
    }
   ],
   "source": [
    "gr_B.describe()\n",
    "\n",
    "# смотрим по отдельности описательные статистики - тестовая группа (с изменениями)"
   ]
  },
  {
   "cell_type": "markdown",
   "id": "33bcd0f5",
   "metadata": {},
   "source": [
    "Максимальный доход (revenue) в первой группе сильно больше, чем в группе B. \n",
    "\n",
    "Мы заранее видим, что наши метрики различаются, но нам нужно это статистически доказать."
   ]
  },
  {
   "cell_type": "code",
   "execution_count": 24,
   "id": "02473a4e",
   "metadata": {},
   "outputs": [],
   "source": [
    "# def continious_result - для непрерывной метрики\n",
    "def continious_result(gr_A: pd.DataFrame,\n",
    "                      gr_B: pd.DataFrame,\n",
    "                      column: str,\n",
    "                      n_iters: int = 10_000) -> pd.DataFrame:\n",
    "    # Статистика по выборкам (вытащить описательные статистики: размер выборки, среднее контрольной и тестовой групп, станд откл обеих групп)\n",
    "    size = gr_A.loc[:, column].shape[0]\n",
    "    \n",
    "    gr_A_mean = gr_A.loc[:, column].mean()\n",
    "    gr_B_mean = gr_B.loc[:, column].mean()\n",
    "    \n",
    "    gr_A_std = gr_A.loc[:, column].std(ddof=1)\n",
    "    gr_B_std = gr_B.loc[:, column].std(ddof=1)\n",
    "    \n",
    "#  теперь нам нужно посчитать либо при нормальном распределении  Т-критерий, либо при ненормальном - критерий манна уитни\n",
    "#  ЛИБО пойти другим путем и посчитать через БУТСТРАП\n",
    "# Преимущества БУТСТРАПА: \n",
    "# 1 - с него мы сразу получаем распределение разницы наших средних\n",
    "# 2 - на его основе можно посчитать через генератор распределение значений p-value\n",
    "# 3 - если был бы А/А тест, могли бы посчитать значение ошибки 1 рода разниц между нашими группами, будет она или нет.\n",
    "\n",
    "    # Бутсрап\n",
    "    booted_diff = [] # создаем лист, куда мы будем записывать БУТСТРАПированную разницу\n",
    "    for _ in tqdm(range(n_iters)): # запускаем цикл по количеству итераций\n",
    "        gr_A_sample = gr_A.loc[:, column].sample(n=size, replace=True).values #семплируем контроль (нужно выделить колонку, которую мы семплируем, и передать ему размер выборки, кот мы семплируем)\n",
    "        gr_B_sample = gr_B.loc[:, column].sample(n=size, replace=True).values # replace=True - чтобы были замены и возвраты, чтобы не было всегда одного и того же результата\n",
    "        booted_diff.append(np.mean(gr_A_sample - gr_B_sample)) # считаем разницу между контролем и тестом и записываем среднее значение этой разницы в массив booted_diff\n",
    "# т.о. мы получим распределение бутстрапированный разницы средних наших выборок\n",
    "    \n",
    "    # Считаем статистику после бустрапа\n",
    "    md_ci, std_ci = np.mean(booted_diff), np.std(booted_diff, ddof=1) # md_ci - средрнее значение (т.е. средний эффект межд значениями в группах), std_ci - стд отклонение этого эффекта \n",
    "    left_ci, right_ci = np.percentile(booted_diff, [2.5, 97.5]) # левая и правая границы доверительного интервала\n",
    "    p_value_ci = 2 * (1 - stats.norm.cdf(np.abs(md_ci / std_ci))) # считаем значение p-value через генератора норм распр-ия и суммы куммулятивной ф-ии\n",
    "    \n",
    "    # Считаем мощность эксперимента\n",
    "    effect_size, _ = effectsize_smd(mean1=gr_B_mean, sd1=gr_B_std, nobs1=size,\n",
    "                                    mean2=gr_A_mean, sd2=gr_A_std, nobs2=size)\n",
    "    power = tt_ind_solve_power(effect_size=effect_size,\n",
    "                               nobs1=size,\n",
    "                               alpha=.05,\n",
    "                               power=None,\n",
    "                               ratio=1)\n",
    "    # Формируем отчёт \n",
    "    result = pd.DataFrame({'effect_size': effect_size,\n",
    "                           'alpha': p_value_ci, # ошибка 1 рода\n",
    "                           'beta': (1-power), # ошибка 2 рода\n",
    "                           'CI': f'[{np.round(left_ci, 3)}, {np.round(right_ci, 3)}]',  # доверит интвервал (лев и прав границы округлим до 3 знаков после запятой)\n",
    "                           'difference': md_ci,}, # разница между нашими группами\n",
    "                          index=[column]) \n",
    "    return result\n",
    "\n",
    "# результатом будет табличка"
   ]
  },
  {
   "cell_type": "code",
   "execution_count": 23,
   "id": "8cd43dd8",
   "metadata": {},
   "outputs": [
    {
     "name": "stderr",
     "output_type": "stream",
     "text": [
      "100%|██████████| 10000/10000 [00:06<00:00, 1589.52it/s]\n"
     ]
    },
    {
     "data": {
      "text/html": [
       "<div>\n",
       "<style scoped>\n",
       "    .dataframe tbody tr th:only-of-type {\n",
       "        vertical-align: middle;\n",
       "    }\n",
       "\n",
       "    .dataframe tbody tr th {\n",
       "        vertical-align: top;\n",
       "    }\n",
       "\n",
       "    .dataframe thead th {\n",
       "        text-align: right;\n",
       "    }\n",
       "</style>\n",
       "<table border=\"1\" class=\"dataframe\">\n",
       "  <thead>\n",
       "    <tr style=\"text-align: right;\">\n",
       "      <th></th>\n",
       "      <th>effect_size</th>\n",
       "      <th>alpha</th>\n",
       "      <th>beta</th>\n",
       "      <th>CI</th>\n",
       "      <th>difference</th>\n",
       "    </tr>\n",
       "  </thead>\n",
       "  <tbody>\n",
       "    <tr>\n",
       "      <th>REVENUE</th>\n",
       "      <td>-0.028393</td>\n",
       "      <td>0.20239</td>\n",
       "      <td>0.757808</td>\n",
       "      <td>[-0.024, 0.208]</td>\n",
       "      <td>0.073802</td>\n",
       "    </tr>\n",
       "  </tbody>\n",
       "</table>\n",
       "</div>"
      ],
      "text/plain": [
       "         effect_size    alpha      beta               CI  difference\n",
       "REVENUE    -0.028393  0.20239  0.757808  [-0.024, 0.208]    0.073802"
      ]
     },
     "execution_count": 23,
     "metadata": {},
     "output_type": "execute_result"
    }
   ],
   "source": [
    "continious_result(gr_A, gr_B, column='REVENUE')\n",
    "\n",
    "# progress bar (ниже черная строка)"
   ]
  },
  {
   "cell_type": "code",
   "execution_count": null,
   "id": "07fabfd9",
   "metadata": {},
   "outputs": [],
   "source": [
    "Результаты А/В теста:\n",
    "    1. Аlpha = 0,20239 = 20% - это p-value, больше чем 5%.\n",
    "    2. Высокая ошибка 2 рода, т.к. beta = 76%, а должно быть в норме ~ 20%, т.е. 0,02.\n",
    "    3. Доверительный интервал [-0.024, 0.208] включает в себя 0, это значит, что разница между группами статистически не значима.\n",
    "    4. Difference (различия/разница) совсем маленькая.\n",
    "    \n",
    "На основе полученных данных можно сделать вывод, что гипотеза для увеличения дохода, которую мы выдвинули для А/В теста, не подтвердилась.\n",
    "Изменения выкатывать нельзя.\n",
    "Проверить количество юзеров в каждой группе, они должны быть примерно одинаковыми.\n",
    "Возможно, произошло неправильное семплирование данных.\n",
    "Рекомендации выбрать другую гипотезу, следуя чек-листу при проведении А/В теста. \n",
    "Либо предварительно провести А/А тест."
   ]
  }
 ],
 "metadata": {
  "kernelspec": {
   "display_name": "Python 3 (ipykernel)",
   "language": "python",
   "name": "python3"
  },
  "language_info": {
   "codemirror_mode": {
    "name": "ipython",
    "version": 3
   },
   "file_extension": ".py",
   "mimetype": "text/x-python",
   "name": "python",
   "nbconvert_exporter": "python",
   "pygments_lexer": "ipython3",
   "version": "3.9.13"
  }
 },
 "nbformat": 4,
 "nbformat_minor": 5
}
